{
 "cells": [
  {
   "cell_type": "code",
   "execution_count": 5,
   "id": "d732a1b2-b450-4029-b593-d7739617e15e",
   "metadata": {},
   "outputs": [],
   "source": [
    "lovely_loveset_description = \"Lovely Loveseat. Tufted polyester blend on wood. 32 inches high x 40 inches wide x 30 inches deep. Red or white.\"\n",
    "lovely_loveset_price = 254.00\n",
    "style_settee_description = \"Stylish Settee. Faux leather on birch. 29.50 inches high x 54.75 inches wide x 28 inches deep. Black.\"\n",
    "style_settee_price = 180.50\n",
    "luxurious_lamp_description = \"Luxurious Lamp. Glass and iron. 36 inches tall. Brown with cream shade.\"\n",
    "luxurious_lamp_price = 52.15\n",
    "sales_tax = 0.088"
   ]
  },
  {
   "cell_type": "code",
   "execution_count": 13,
   "id": "88de54b4-7a39-4961-956c-2f0841cb21e5",
   "metadata": {},
   "outputs": [],
   "source": [
    "customer_one_total = lovely_loveset_price + luxurious_lamp_price\n",
    "customer_one_itemization = lovely_loveset_description + luxurious_lamp_description\n",
    "customer_one_tax = customer_one_total * sales_tax\n",
    "customer_total = customer_one_total + customer_one_tax"
   ]
  },
  {
   "cell_type": "code",
   "execution_count": 17,
   "id": "50d689f4-e892-4c24-9bb8-e894d37fc490",
   "metadata": {},
   "outputs": [
    {
     "name": "stdout",
     "output_type": "stream",
     "text": [
      "Customer One Item:\n",
      "Lovely Loveseat. Tufted polyester blend on wood. 32 inches high x 40 inches wide x 30 inches deep. Red or white.Luxurious Lamp. Glass and iron. 36 inches tall. Brown with cream shade.\n",
      "Customer One Total:\n",
      "333.09119999999996\n"
     ]
    }
   ],
   "source": [
    "print(\"Customer One Item:\")\n",
    "print(customer_one_itemization)\n",
    "print(\"Customer One Total:\")\n",
    "print(customer_total)"
   ]
  }
 ],
 "metadata": {
  "kernelspec": {
   "display_name": "Python 3 (ipykernel)",
   "language": "python",
   "name": "python3"
  },
  "language_info": {
   "codemirror_mode": {
    "name": "ipython",
    "version": 3
   },
   "file_extension": ".py",
   "mimetype": "text/x-python",
   "name": "python",
   "nbconvert_exporter": "python",
   "pygments_lexer": "ipython3",
   "version": "3.9.12"
  }
 },
 "nbformat": 4,
 "nbformat_minor": 5
}
