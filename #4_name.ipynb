{
 "cells": [
  {
   "cell_type": "code",
   "execution_count": 3,
   "id": "84b489c4-55dd-4cd0-b369-055f98fb22d7",
   "metadata": {},
   "outputs": [],
   "source": [
    "month = ['쌍', '쇠', '복', '돌', '팽', '육', '쌍', '개', '칠', '갑', '삼', '방']\n",
    "day = ['봉', '구', '욕', '포', '똥', '삼', '식', '석', '놈', '님', '년', '돌', '단', '득', '방', '질', '장', '걸', '래', '룡', '동', '순', '자', '박', '창', '언', '것', '포', '만', '단', '국']"
   ]
  },
  {
   "cell_type": "code",
   "execution_count": 4,
   "id": "0ea32c73-576e-4df2-a834-4921c3314695",
   "metadata": {},
   "outputs": [],
   "source": [
    "def get_my_chosun_name(family_name,y,z):\n",
    "    return print('당신의 조선시대 이름은',family_name,month[y-1],day[z-1],'입니다.')"
   ]
  },
  {
   "cell_type": "code",
   "execution_count": 5,
   "id": "83b830c1-0f87-4f8b-b287-e90045c278d4",
   "metadata": {},
   "outputs": [
    {
     "name": "stdout",
     "output_type": "stream",
     "text": [
      "당신의 조선시대 이름은 최 복 단 입니다.\n"
     ]
    }
   ],
   "source": [
    "get_my_chosun_name('최',3,13)"
   ]
  }
 ],
 "metadata": {
  "kernelspec": {
   "display_name": "Python 3 (ipykernel)",
   "language": "python",
   "name": "python3"
  },
  "language_info": {
   "codemirror_mode": {
    "name": "ipython",
    "version": 3
   },
   "file_extension": ".py",
   "mimetype": "text/x-python",
   "name": "python",
   "nbconvert_exporter": "python",
   "pygments_lexer": "ipython3",
   "version": "3.9.12"
  }
 },
 "nbformat": 4,
 "nbformat_minor": 5
}
